{
  "nbformat": 4,
  "nbformat_minor": 0,
  "metadata": {
    "colab": {
      "name": "IntrotoML.ipynb",
      "provenance": []
    },
    "kernelspec": {
      "name": "python3",
      "display_name": "Python 3"
    }
  },
  "cells": [
    {
      "cell_type": "code",
      "metadata": {
        "id": "J0MM9HWxcTHb",
        "colab_type": "code",
        "colab": {}
      },
      "source": [
        "import pandas as pd\n",
        "import matplotlib.pyplot as plt\n",
        "import datetime\n",
        "from sklearn.model_selection import train_test_split\n",
        "from sklearn.linear_model import LinearRegression\n",
        "from sklearn.metrics import mean_squared_error \n",
        "from sklearn.ensemble import RandomForestRegressor \n"
      ],
      "execution_count": 0,
      "outputs": []
    },
    {
      "cell_type": "code",
      "metadata": {
        "id": "mDULSD0nes7n",
        "colab_type": "code",
        "colab": {}
      },
      "source": [
        "item_categories = pd.read_csv(\"item_categories.csv\")\n",
        "items = pd.read_csv(\"items.csv\")\n",
        "sales_train = pd.read_csv(\"sales_train.csv\")\n",
        "shops = pd.read_csv(\"shops.csv\")\n",
        "test_file = pd.read_csv(\"test.csv\")"
      ],
      "execution_count": 0,
      "outputs": []
    },
    {
      "cell_type": "code",
      "metadata": {
        "id": "xMdgeWJAfOmU",
        "colab_type": "code",
        "colab": {}
      },
      "source": [
        "sales_train = pd.merge(shops, pd.merge(pd.merge(items, item_categories), sales_train))"
      ],
      "execution_count": 0,
      "outputs": []
    },
    {
      "cell_type": "code",
      "metadata": {
        "id": "32irHrk9AQ3T",
        "colab_type": "code",
        "colab": {}
      },
      "source": [
        "sales_train['date']=pd.to_datetime(sales_train['date'])\n",
        "sales_train[\"Year\"] = pd.DatetimeIndex(sales_train.date).year\n",
        "sales_train[\"Month\"] = pd.DatetimeIndex(sales_train.date).month"
      ],
      "execution_count": 0,
      "outputs": []
    },
    {
      "cell_type": "code",
      "metadata": {
        "id": "7xQaS6dy4qqJ",
        "colab_type": "code",
        "colab": {}
      },
      "source": [
        "sales_train = sales_train.sort_values([\"date_block_num\",\"shop_id\", \"item_id\",\"Year\",\"Month\"], ascending = (True, True, True, True, True))"
      ],
      "execution_count": 0,
      "outputs": []
    },
    {
      "cell_type": "code",
      "metadata": {
        "id": "ATV67C5MIdIs",
        "colab_type": "code",
        "colab": {
          "base_uri": "https://localhost:8080/",
          "height": 570
        },
        "outputId": "f4bb2f68-afe2-4512-ded5-e41c050cb8f3"
      },
      "source": [
        "sales_train = sales_train[sales_train.item_cnt_day<1000]\n",
        "sales_train = sales_train[sales_train.item_price<45000]\n",
        "sales_train"
      ],
      "execution_count": 33,
      "outputs": [
        {
          "output_type": "execute_result",
          "data": {
            "text/html": [
              "<div>\n",
              "<style scoped>\n",
              "    .dataframe tbody tr th:only-of-type {\n",
              "        vertical-align: middle;\n",
              "    }\n",
              "\n",
              "    .dataframe tbody tr th {\n",
              "        vertical-align: top;\n",
              "    }\n",
              "\n",
              "    .dataframe thead th {\n",
              "        text-align: right;\n",
              "    }\n",
              "</style>\n",
              "<table border=\"1\" class=\"dataframe\">\n",
              "  <thead>\n",
              "    <tr style=\"text-align: right;\">\n",
              "      <th></th>\n",
              "      <th>shop_name</th>\n",
              "      <th>shop_id</th>\n",
              "      <th>item_name</th>\n",
              "      <th>item_id</th>\n",
              "      <th>item_category_id</th>\n",
              "      <th>item_category_name</th>\n",
              "      <th>date</th>\n",
              "      <th>date_block_num</th>\n",
              "      <th>item_price</th>\n",
              "      <th>item_cnt_day</th>\n",
              "      <th>Year</th>\n",
              "      <th>Month</th>\n",
              "    </tr>\n",
              "  </thead>\n",
              "  <tbody>\n",
              "    <tr>\n",
              "      <th>10</th>\n",
              "      <td>!Якутск Орджоникидзе, 56 фран</td>\n",
              "      <td>0</td>\n",
              "      <td>1+1</td>\n",
              "      <td>32</td>\n",
              "      <td>40</td>\n",
              "      <td>Кино - DVD</td>\n",
              "      <td>2013-01-21</td>\n",
              "      <td>0</td>\n",
              "      <td>221.0</td>\n",
              "      <td>2.0</td>\n",
              "      <td>2013</td>\n",
              "      <td>1</td>\n",
              "    </tr>\n",
              "    <tr>\n",
              "      <th>11</th>\n",
              "      <td>!Якутск Орджоникидзе, 56 фран</td>\n",
              "      <td>0</td>\n",
              "      <td>1+1</td>\n",
              "      <td>32</td>\n",
              "      <td>40</td>\n",
              "      <td>Кино - DVD</td>\n",
              "      <td>2013-01-25</td>\n",
              "      <td>0</td>\n",
              "      <td>221.0</td>\n",
              "      <td>1.0</td>\n",
              "      <td>2013</td>\n",
              "      <td>1</td>\n",
              "    </tr>\n",
              "    <tr>\n",
              "      <th>12</th>\n",
              "      <td>!Якутск Орджоникидзе, 56 фран</td>\n",
              "      <td>0</td>\n",
              "      <td>1+1</td>\n",
              "      <td>32</td>\n",
              "      <td>40</td>\n",
              "      <td>Кино - DVD</td>\n",
              "      <td>2013-01-31</td>\n",
              "      <td>0</td>\n",
              "      <td>221.0</td>\n",
              "      <td>1.0</td>\n",
              "      <td>2013</td>\n",
              "      <td>1</td>\n",
              "    </tr>\n",
              "    <tr>\n",
              "      <th>9</th>\n",
              "      <td>!Якутск Орджоникидзе, 56 фран</td>\n",
              "      <td>0</td>\n",
              "      <td>1+1</td>\n",
              "      <td>32</td>\n",
              "      <td>40</td>\n",
              "      <td>Кино - DVD</td>\n",
              "      <td>2013-03-01</td>\n",
              "      <td>0</td>\n",
              "      <td>221.0</td>\n",
              "      <td>2.0</td>\n",
              "      <td>2013</td>\n",
              "      <td>3</td>\n",
              "    </tr>\n",
              "    <tr>\n",
              "      <th>6265</th>\n",
              "      <td>!Якутск Орджоникидзе, 56 фран</td>\n",
              "      <td>0</td>\n",
              "      <td>1+1 (BD)</td>\n",
              "      <td>33</td>\n",
              "      <td>37</td>\n",
              "      <td>Кино - Blu-Ray</td>\n",
              "      <td>2013-01-17</td>\n",
              "      <td>0</td>\n",
              "      <td>347.0</td>\n",
              "      <td>1.0</td>\n",
              "      <td>2013</td>\n",
              "      <td>1</td>\n",
              "    </tr>\n",
              "    <tr>\n",
              "      <th>...</th>\n",
              "      <td>...</td>\n",
              "      <td>...</td>\n",
              "      <td>...</td>\n",
              "      <td>...</td>\n",
              "      <td>...</td>\n",
              "      <td>...</td>\n",
              "      <td>...</td>\n",
              "      <td>...</td>\n",
              "      <td>...</td>\n",
              "      <td>...</td>\n",
              "      <td>...</td>\n",
              "      <td>...</td>\n",
              "    </tr>\n",
              "    <tr>\n",
              "      <th>2935766</th>\n",
              "      <td>Ярославль ТЦ \"Альтаир\"</td>\n",
              "      <td>59</td>\n",
              "      <td>Элемент питания DURACELL LR06-BC2</td>\n",
              "      <td>22088</td>\n",
              "      <td>83</td>\n",
              "      <td>Элементы питания</td>\n",
              "      <td>2015-03-10</td>\n",
              "      <td>33</td>\n",
              "      <td>119.0</td>\n",
              "      <td>1.0</td>\n",
              "      <td>2015</td>\n",
              "      <td>3</td>\n",
              "    </tr>\n",
              "    <tr>\n",
              "      <th>2935767</th>\n",
              "      <td>Ярославль ТЦ \"Альтаир\"</td>\n",
              "      <td>59</td>\n",
              "      <td>Элемент питания DURACELL LR06-BC2</td>\n",
              "      <td>22088</td>\n",
              "      <td>83</td>\n",
              "      <td>Элементы питания</td>\n",
              "      <td>2015-10-27</td>\n",
              "      <td>33</td>\n",
              "      <td>119.0</td>\n",
              "      <td>1.0</td>\n",
              "      <td>2015</td>\n",
              "      <td>10</td>\n",
              "    </tr>\n",
              "    <tr>\n",
              "      <th>2935796</th>\n",
              "      <td>Ярославль ТЦ \"Альтаир\"</td>\n",
              "      <td>59</td>\n",
              "      <td>Элемент питания DURACELL TURBO LR 03 2*BL</td>\n",
              "      <td>22091</td>\n",
              "      <td>83</td>\n",
              "      <td>Элементы питания</td>\n",
              "      <td>2015-03-10</td>\n",
              "      <td>33</td>\n",
              "      <td>179.0</td>\n",
              "      <td>1.0</td>\n",
              "      <td>2015</td>\n",
              "      <td>3</td>\n",
              "    </tr>\n",
              "    <tr>\n",
              "      <th>2935152</th>\n",
              "      <td>Ярославль ТЦ \"Альтаир\"</td>\n",
              "      <td>59</td>\n",
              "      <td>Энциклопедия Adventure Time</td>\n",
              "      <td>22100</td>\n",
              "      <td>42</td>\n",
              "      <td>Книги - Артбуки, энциклопедии</td>\n",
              "      <td>2015-10-18</td>\n",
              "      <td>33</td>\n",
              "      <td>629.0</td>\n",
              "      <td>1.0</td>\n",
              "      <td>2015</td>\n",
              "      <td>10</td>\n",
              "    </tr>\n",
              "    <tr>\n",
              "      <th>2935156</th>\n",
              "      <td>Ярославль ТЦ \"Альтаир\"</td>\n",
              "      <td>59</td>\n",
              "      <td>Энциклопедия Мир Ведьмака</td>\n",
              "      <td>22102</td>\n",
              "      <td>42</td>\n",
              "      <td>Книги - Артбуки, энциклопедии</td>\n",
              "      <td>2015-10-16</td>\n",
              "      <td>33</td>\n",
              "      <td>1250.0</td>\n",
              "      <td>1.0</td>\n",
              "      <td>2015</td>\n",
              "      <td>10</td>\n",
              "    </tr>\n",
              "  </tbody>\n",
              "</table>\n",
              "<p>2935843 rows × 12 columns</p>\n",
              "</div>"
            ],
            "text/plain": [
              "                             shop_name  shop_id  ...  Year  Month\n",
              "10       !Якутск Орджоникидзе, 56 фран        0  ...  2013      1\n",
              "11       !Якутск Орджоникидзе, 56 фран        0  ...  2013      1\n",
              "12       !Якутск Орджоникидзе, 56 фран        0  ...  2013      1\n",
              "9        !Якутск Орджоникидзе, 56 фран        0  ...  2013      3\n",
              "6265     !Якутск Орджоникидзе, 56 фран        0  ...  2013      1\n",
              "...                                ...      ...  ...   ...    ...\n",
              "2935766         Ярославль ТЦ \"Альтаир\"       59  ...  2015      3\n",
              "2935767         Ярославль ТЦ \"Альтаир\"       59  ...  2015     10\n",
              "2935796         Ярославль ТЦ \"Альтаир\"       59  ...  2015      3\n",
              "2935152         Ярославль ТЦ \"Альтаир\"       59  ...  2015     10\n",
              "2935156         Ярославль ТЦ \"Альтаир\"       59  ...  2015     10\n",
              "\n",
              "[2935843 rows x 12 columns]"
            ]
          },
          "metadata": {
            "tags": []
          },
          "execution_count": 33
        }
      ]
    },
    {
      "cell_type": "code",
      "metadata": {
        "id": "Tb9aO6EAYdV3",
        "colab_type": "code",
        "colab": {}
      },
      "source": [
        "sales_train = sales_train.groupby([sales_train.date_block_num ,sales_train.Month, sales_train.shop_id, sales_train.item_id]).agg(\n",
        "    item_cnt_month = pd.NamedAgg('item_cnt_day', sum)\n",
        "    ).reset_index()"
      ],
      "execution_count": 0,
      "outputs": []
    },
    {
      "cell_type": "code",
      "metadata": {
        "id": "wvy-sElemD01",
        "colab_type": "code",
        "colab": {
          "base_uri": "https://localhost:8080/",
          "height": 402
        },
        "outputId": "9d249c6a-0615-4bf6-cd28-8e8977a5231e"
      },
      "source": [
        "sales_train"
      ],
      "execution_count": 35,
      "outputs": [
        {
          "output_type": "execute_result",
          "data": {
            "text/html": [
              "<div>\n",
              "<style scoped>\n",
              "    .dataframe tbody tr th:only-of-type {\n",
              "        vertical-align: middle;\n",
              "    }\n",
              "\n",
              "    .dataframe tbody tr th {\n",
              "        vertical-align: top;\n",
              "    }\n",
              "\n",
              "    .dataframe thead th {\n",
              "        text-align: right;\n",
              "    }\n",
              "</style>\n",
              "<table border=\"1\" class=\"dataframe\">\n",
              "  <thead>\n",
              "    <tr style=\"text-align: right;\">\n",
              "      <th></th>\n",
              "      <th>date_block_num</th>\n",
              "      <th>Month</th>\n",
              "      <th>shop_id</th>\n",
              "      <th>item_id</th>\n",
              "      <th>item_cnt_month</th>\n",
              "    </tr>\n",
              "  </thead>\n",
              "  <tbody>\n",
              "    <tr>\n",
              "      <th>0</th>\n",
              "      <td>0</td>\n",
              "      <td>1</td>\n",
              "      <td>0</td>\n",
              "      <td>32</td>\n",
              "      <td>4.0</td>\n",
              "    </tr>\n",
              "    <tr>\n",
              "      <th>1</th>\n",
              "      <td>0</td>\n",
              "      <td>1</td>\n",
              "      <td>0</td>\n",
              "      <td>33</td>\n",
              "      <td>2.0</td>\n",
              "    </tr>\n",
              "    <tr>\n",
              "      <th>2</th>\n",
              "      <td>0</td>\n",
              "      <td>1</td>\n",
              "      <td>0</td>\n",
              "      <td>35</td>\n",
              "      <td>1.0</td>\n",
              "    </tr>\n",
              "    <tr>\n",
              "      <th>3</th>\n",
              "      <td>0</td>\n",
              "      <td>1</td>\n",
              "      <td>0</td>\n",
              "      <td>43</td>\n",
              "      <td>1.0</td>\n",
              "    </tr>\n",
              "    <tr>\n",
              "      <th>4</th>\n",
              "      <td>0</td>\n",
              "      <td>1</td>\n",
              "      <td>0</td>\n",
              "      <td>51</td>\n",
              "      <td>2.0</td>\n",
              "    </tr>\n",
              "    <tr>\n",
              "      <th>...</th>\n",
              "      <td>...</td>\n",
              "      <td>...</td>\n",
              "      <td>...</td>\n",
              "      <td>...</td>\n",
              "      <td>...</td>\n",
              "    </tr>\n",
              "    <tr>\n",
              "      <th>2234392</th>\n",
              "      <td>33</td>\n",
              "      <td>12</td>\n",
              "      <td>59</td>\n",
              "      <td>17775</td>\n",
              "      <td>2.0</td>\n",
              "    </tr>\n",
              "    <tr>\n",
              "      <th>2234393</th>\n",
              "      <td>33</td>\n",
              "      <td>12</td>\n",
              "      <td>59</td>\n",
              "      <td>18441</td>\n",
              "      <td>1.0</td>\n",
              "    </tr>\n",
              "    <tr>\n",
              "      <th>2234394</th>\n",
              "      <td>33</td>\n",
              "      <td>12</td>\n",
              "      <td>59</td>\n",
              "      <td>19289</td>\n",
              "      <td>1.0</td>\n",
              "    </tr>\n",
              "    <tr>\n",
              "      <th>2234395</th>\n",
              "      <td>33</td>\n",
              "      <td>12</td>\n",
              "      <td>59</td>\n",
              "      <td>19688</td>\n",
              "      <td>1.0</td>\n",
              "    </tr>\n",
              "    <tr>\n",
              "      <th>2234396</th>\n",
              "      <td>33</td>\n",
              "      <td>12</td>\n",
              "      <td>59</td>\n",
              "      <td>20949</td>\n",
              "      <td>2.0</td>\n",
              "    </tr>\n",
              "  </tbody>\n",
              "</table>\n",
              "<p>2234397 rows × 5 columns</p>\n",
              "</div>"
            ],
            "text/plain": [
              "         date_block_num  Month  shop_id  item_id  item_cnt_month\n",
              "0                     0      1        0       32             4.0\n",
              "1                     0      1        0       33             2.0\n",
              "2                     0      1        0       35             1.0\n",
              "3                     0      1        0       43             1.0\n",
              "4                     0      1        0       51             2.0\n",
              "...                 ...    ...      ...      ...             ...\n",
              "2234392              33     12       59    17775             2.0\n",
              "2234393              33     12       59    18441             1.0\n",
              "2234394              33     12       59    19289             1.0\n",
              "2234395              33     12       59    19688             1.0\n",
              "2234396              33     12       59    20949             2.0\n",
              "\n",
              "[2234397 rows x 5 columns]"
            ]
          },
          "metadata": {
            "tags": []
          },
          "execution_count": 35
        }
      ]
    },
    {
      "cell_type": "code",
      "metadata": {
        "id": "jOAlMKgK8uAa",
        "colab_type": "code",
        "colab": {}
      },
      "source": [
        "train, test, train_y, test_y = train_test_split(sales_train.iloc[:, sales_train.columns != 'item_cnt_month'], sales_train[\"item_cnt_month\"], \n",
        "                                                    train_size=0.7,\n",
        "                                                    test_size=0.3,\n",
        "                                                    random_state=99)"
      ],
      "execution_count": 0,
      "outputs": []
    },
    {
      "cell_type": "code",
      "metadata": {
        "id": "fSGmGoRnwA53",
        "colab_type": "code",
        "colab": {
          "base_uri": "https://localhost:8080/",
          "height": 195
        },
        "outputId": "b05e1cde-48fa-4125-e9ed-54f359c90ba8"
      },
      "source": [
        "sales_train.corr()"
      ],
      "execution_count": 37,
      "outputs": [
        {
          "output_type": "execute_result",
          "data": {
            "text/html": [
              "<div>\n",
              "<style scoped>\n",
              "    .dataframe tbody tr th:only-of-type {\n",
              "        vertical-align: middle;\n",
              "    }\n",
              "\n",
              "    .dataframe tbody tr th {\n",
              "        vertical-align: top;\n",
              "    }\n",
              "\n",
              "    .dataframe thead th {\n",
              "        text-align: right;\n",
              "    }\n",
              "</style>\n",
              "<table border=\"1\" class=\"dataframe\">\n",
              "  <thead>\n",
              "    <tr style=\"text-align: right;\">\n",
              "      <th></th>\n",
              "      <th>date_block_num</th>\n",
              "      <th>Month</th>\n",
              "      <th>shop_id</th>\n",
              "      <th>item_id</th>\n",
              "      <th>item_cnt_month</th>\n",
              "    </tr>\n",
              "  </thead>\n",
              "  <tbody>\n",
              "    <tr>\n",
              "      <th>date_block_num</th>\n",
              "      <td>1.000000</td>\n",
              "      <td>0.118677</td>\n",
              "      <td>0.020037</td>\n",
              "      <td>0.005442</td>\n",
              "      <td>0.006025</td>\n",
              "    </tr>\n",
              "    <tr>\n",
              "      <th>Month</th>\n",
              "      <td>0.118677</td>\n",
              "      <td>1.000000</td>\n",
              "      <td>0.014419</td>\n",
              "      <td>0.002269</td>\n",
              "      <td>0.012636</td>\n",
              "    </tr>\n",
              "    <tr>\n",
              "      <th>shop_id</th>\n",
              "      <td>0.020037</td>\n",
              "      <td>0.014419</td>\n",
              "      <td>1.000000</td>\n",
              "      <td>0.027530</td>\n",
              "      <td>-0.001531</td>\n",
              "    </tr>\n",
              "    <tr>\n",
              "      <th>item_id</th>\n",
              "      <td>0.005442</td>\n",
              "      <td>0.002269</td>\n",
              "      <td>0.027530</td>\n",
              "      <td>1.000000</td>\n",
              "      <td>0.000985</td>\n",
              "    </tr>\n",
              "    <tr>\n",
              "      <th>item_cnt_month</th>\n",
              "      <td>0.006025</td>\n",
              "      <td>0.012636</td>\n",
              "      <td>-0.001531</td>\n",
              "      <td>0.000985</td>\n",
              "      <td>1.000000</td>\n",
              "    </tr>\n",
              "  </tbody>\n",
              "</table>\n",
              "</div>"
            ],
            "text/plain": [
              "                date_block_num     Month   shop_id   item_id  item_cnt_month\n",
              "date_block_num        1.000000  0.118677  0.020037  0.005442        0.006025\n",
              "Month                 0.118677  1.000000  0.014419  0.002269        0.012636\n",
              "shop_id               0.020037  0.014419  1.000000  0.027530       -0.001531\n",
              "item_id               0.005442  0.002269  0.027530  1.000000        0.000985\n",
              "item_cnt_month        0.006025  0.012636 -0.001531  0.000985        1.000000"
            ]
          },
          "metadata": {
            "tags": []
          },
          "execution_count": 37
        }
      ]
    },
    {
      "cell_type": "code",
      "metadata": {
        "id": "WnHNMNMr4o0A",
        "colab_type": "code",
        "colab": {
          "base_uri": "https://localhost:8080/",
          "height": 282
        },
        "outputId": "46b16cab-9d4a-4d88-cd3c-28b19815c444"
      },
      "source": [
        "plt.scatter(sales_train.date_block_num, sales_train.Month)"
      ],
      "execution_count": 38,
      "outputs": [
        {
          "output_type": "execute_result",
          "data": {
            "text/plain": [
              "<matplotlib.collections.PathCollection at 0x7fe383342160>"
            ]
          },
          "metadata": {
            "tags": []
          },
          "execution_count": 38
        },
        {
          "output_type": "display_data",
          "data": {
            "image/png": "[encoded data removed]",
            "text/plain": [
              "<Figure size 432x288 with 1 Axes>"
            ]
          },
          "metadata": {
            "tags": [],
            "needs_background": "light"
          }
        }
      ]
    },
    {
      "cell_type": "code",
      "metadata": {
        "id": "zQ6rOtd69Xzw",
        "colab_type": "code",
        "colab": {}
      },
      "source": [
        "regressor = LinearRegression()\n",
        "regressor.fit(train,train_y)\n",
        "y_pred= regressor.predict(test)"
      ],
      "execution_count": 0,
      "outputs": []
    },
    {
      "cell_type": "code",
      "metadata": {
        "id": "E4hiipqyBEEl",
        "colab_type": "code",
        "colab": {
          "base_uri": "https://localhost:8080/",
          "height": 34
        },
        "outputId": "0d5ac898-db06-4600-df8b-ae26ef7aeb85"
      },
      "source": [
        "#Accuracy Parameter\n",
        "mean_squared_error(test_y,y_pred)"
      ],
      "execution_count": 40,
      "outputs": [
        {
          "output_type": "execute_result",
          "data": {
            "text/plain": [
              "28.492204510027346"
            ]
          },
          "metadata": {
            "tags": []
          },
          "execution_count": 40
        }
      ]
    },
    {
      "cell_type": "code",
      "metadata": {
        "id": "CluaqYkYNrPf",
        "colab_type": "code",
        "colab": {
          "base_uri": "https://localhost:8080/",
          "height": 588
        },
        "outputId": "52f8d9e9-df9d-49d2-af42-04a0c38fc6e0"
      },
      "source": [
        "#https://stackabuse.com/random-forest-algorithm-with-python-and-scikit-learn/\n",
        "#Scaling Data\n",
        "from sklearn.preprocessing import StandardScaler\n",
        "\n",
        "sc = StandardScaler()\n",
        "train = sc.fit_transform(train)\n",
        "test = sc.transform(test)\n",
        "\n",
        "#Random Forest Regression\n",
        "regressor = RandomForestRegressor(n_estimators=10, verbose=100, random_state=0)\n",
        "regressor.fit(train, train_y)\n",
        "y_pred = regressor.predict(test)"
      ],
      "execution_count": 41,
      "outputs": [
        {
          "output_type": "stream",
          "text": [
            "[Parallel(n_jobs=1)]: Using backend SequentialBackend with 1 concurrent workers.\n",
            "building tree 1 of 10\n",
            "[Parallel(n_jobs=1)]: Done   1 out of   1 | elapsed:    6.3s remaining:    0.0s\n",
            "building tree 2 of 10\n",
            "[Parallel(n_jobs=1)]: Done   2 out of   2 | elapsed:   12.5s remaining:    0.0s\n",
            "building tree 3 of 10\n",
            "[Parallel(n_jobs=1)]: Done   3 out of   3 | elapsed:   18.3s remaining:    0.0s\n",
            "building tree 4 of 10\n",
            "[Parallel(n_jobs=1)]: Done   4 out of   4 | elapsed:   24.8s remaining:    0.0s\n",
            "building tree 5 of 10\n",
            "[Parallel(n_jobs=1)]: Done   5 out of   5 | elapsed:   30.7s remaining:    0.0s\n",
            "building tree 6 of 10\n",
            "[Parallel(n_jobs=1)]: Done   6 out of   6 | elapsed:   36.8s remaining:    0.0s\n",
            "building tree 7 of 10\n",
            "[Parallel(n_jobs=1)]: Done   7 out of   7 | elapsed:   43.2s remaining:    0.0s\n",
            "building tree 8 of 10\n",
            "[Parallel(n_jobs=1)]: Done   8 out of   8 | elapsed:   49.2s remaining:    0.0s\n",
            "building tree 9 of 10\n",
            "[Parallel(n_jobs=1)]: Done   9 out of   9 | elapsed:   55.7s remaining:    0.0s\n",
            "building tree 10 of 10\n",
            "[Parallel(n_jobs=1)]: Done  10 out of  10 | elapsed:  1.0min remaining:    0.0s\n",
            "[Parallel(n_jobs=1)]: Done  10 out of  10 | elapsed:  1.0min finished\n",
            "[Parallel(n_jobs=1)]: Using backend SequentialBackend with 1 concurrent workers.\n",
            "[Parallel(n_jobs=1)]: Done   1 out of   1 | elapsed:    0.4s remaining:    0.0s\n",
            "[Parallel(n_jobs=1)]: Done   2 out of   2 | elapsed:    0.8s remaining:    0.0s\n",
            "[Parallel(n_jobs=1)]: Done   3 out of   3 | elapsed:    1.2s remaining:    0.0s\n",
            "[Parallel(n_jobs=1)]: Done   4 out of   4 | elapsed:    1.6s remaining:    0.0s\n",
            "[Parallel(n_jobs=1)]: Done   5 out of   5 | elapsed:    2.0s remaining:    0.0s\n",
            "[Parallel(n_jobs=1)]: Done   6 out of   6 | elapsed:    2.4s remaining:    0.0s\n",
            "[Parallel(n_jobs=1)]: Done   7 out of   7 | elapsed:    2.8s remaining:    0.0s\n",
            "[Parallel(n_jobs=1)]: Done   8 out of   8 | elapsed:    3.1s remaining:    0.0s\n",
            "[Parallel(n_jobs=1)]: Done   9 out of   9 | elapsed:    3.5s remaining:    0.0s\n",
            "[Parallel(n_jobs=1)]: Done  10 out of  10 | elapsed:    3.9s remaining:    0.0s\n",
            "[Parallel(n_jobs=1)]: Done  10 out of  10 | elapsed:    3.9s finished\n"
          ],
          "name": "stdout"
        }
      ]
    },
    {
      "cell_type": "code",
      "metadata": {
        "id": "P80SVAjrWVSw",
        "colab_type": "code",
        "colab": {
          "base_uri": "https://localhost:8080/",
          "height": 34
        },
        "outputId": "333209ae-c99d-4efd-f713-f75315389161"
      },
      "source": [
        "from sklearn import metrics\n",
        "import numpy as np\n",
        "print('Mean Squared Error:', metrics.mean_squared_error(test_y, y_pred))"
      ],
      "execution_count": 43,
      "outputs": [
        {
          "output_type": "stream",
          "text": [
            "Mean Squared Error: 24.01019090881966\n"
          ],
          "name": "stdout"
        }
      ]
    },
    {
      "cell_type": "code",
      "metadata": {
        "id": "5Ykq1tw5vCqq",
        "colab_type": "code",
        "colab": {}
      },
      "source": [
        "#LSTM\n",
        "train_piv = sales_train.pivot_table(index=['shop_id','item_id'], columns=['date_block_num'], values='item_cnt_month', aggfunc=np.sum, fill_value=0)\n",
        "train_piv = train_piv.reset_index()\n",
        "train_piv = pd.merge(test_file,train_piv,on = ['item_id','shop_id'],how = 'left')"
      ],
      "execution_count": 0,
      "outputs": []
    },
    {
      "cell_type": "code",
      "metadata": {
        "id": "HsP1TSuUqgYz",
        "colab_type": "code",
        "colab": {}
      },
      "source": [
        "train_piv.fillna(0,inplace = True)\n",
        "train_piv.drop(['shop_id','item_id','ID'],inplace = True, axis = 1)"
      ],
      "execution_count": 0,
      "outputs": []
    },
    {
      "cell_type": "code",
      "metadata": {
        "id": "Y6AsVhtZqh83",
        "colab_type": "code",
        "colab": {
          "base_uri": "https://localhost:8080/",
          "height": 34
        },
        "outputId": "029e3e62-3a28-4aa7-efd7-82f8cbc5fc92"
      },
      "source": [
        "X_train = np.expand_dims(train_piv.values[:,:-1],axis = 2)\n",
        "y_train = train_piv.values[:,-1:]\n",
        "\n",
        "X_test = np.expand_dims(train_piv.values[:,1:],axis = 2)\n",
        "\n",
        "# lets have a look on the shape \n",
        "print(X_train.shape,y_train.shape,X_test.shape)"
      ],
      "execution_count": 54,
      "outputs": [
        {
          "output_type": "stream",
          "text": [
            "(214200, 33, 1) (214200, 1) (214200, 33, 1)\n"
          ],
          "name": "stdout"
        }
      ]
    },
    {
      "cell_type": "code",
      "metadata": {
        "id": "aAcR5CQ4lv1L",
        "colab_type": "code",
        "colab": {
          "base_uri": "https://localhost:8080/",
          "height": 370
        },
        "outputId": "071453a2-62b6-4858-88be-f5722c07dc74"
      },
      "source": [
        "# multivariate lstm example\n",
        "from keras.models import Sequential\n",
        "from keras.layers import LSTM, Dense\n",
        "\n",
        "\n",
        "model = Sequential()\n",
        "model.add(LSTM(units = 64, activation='relu', input_shape=(33, 1)))\n",
        "model.add(Dense(1))\n",
        "model.compile(optimizer='adam', loss='mse', metrics = ['mean_squared_error'])\n",
        "\n",
        "model.fit(X_train,y_train,batch_size = 4096,epochs = 10)"
      ],
      "execution_count": 55,
      "outputs": [
        {
          "output_type": "stream",
          "text": [
            "Epoch 1/10\n",
            "214200/214200 [==============================] - 49s 229us/step - loss: 5.2808 - mean_squared_error: 5.2808\n",
            "Epoch 2/10\n",
            "214200/214200 [==============================] - 49s 228us/step - loss: 5.3971 - mean_squared_error: 5.3971\n",
            "Epoch 3/10\n",
            "214200/214200 [==============================] - 49s 228us/step - loss: 4.7743 - mean_squared_error: 4.7743\n",
            "Epoch 4/10\n",
            "214200/214200 [==============================] - 49s 230us/step - loss: 4.3167 - mean_squared_error: 4.3167\n",
            "Epoch 5/10\n",
            "214200/214200 [==============================] - 47s 220us/step - loss: 5.2595 - mean_squared_error: 5.2595\n",
            "Epoch 6/10\n",
            "214200/214200 [==============================] - 47s 221us/step - loss: 300.5859 - mean_squared_error: 300.5859\n",
            "Epoch 7/10\n",
            "214200/214200 [==============================] - 47s 220us/step - loss: 1263.0938 - mean_squared_error: 1263.0938\n",
            "Epoch 8/10\n",
            "214200/214200 [==============================] - 47s 222us/step - loss: 348.7785 - mean_squared_error: 348.7785\n",
            "Epoch 9/10\n",
            "214200/214200 [==============================] - 47s 221us/step - loss: 2070.4729 - mean_squared_error: 2070.4729\n",
            "Epoch 10/10\n",
            "214200/214200 [==============================] - 47s 221us/step - loss: 58.7543 - mean_squared_error: 58.7543\n"
          ],
          "name": "stdout"
        },
        {
          "output_type": "execute_result",
          "data": {
            "text/plain": [
              "<keras.callbacks.callbacks.History at 0x7fe386703e10>"
            ]
          },
          "metadata": {
            "tags": []
          },
          "execution_count": 55
        }
      ]
    },
    {
      "cell_type": "code",
      "metadata": {
        "id": "HNlTvdQIu8XV",
        "colab_type": "code",
        "colab": {}
      },
      "source": [
        "y_pred = model.predict(X_test)"
      ],
      "execution_count": 0,
      "outputs": []
    },
    {
      "cell_type": "code",
      "metadata": {
        "id": "1goCVVKjxHQd",
        "colab_type": "code",
        "colab": {
          "base_uri": "https://localhost:8080/",
          "height": 282
        },
        "outputId": "3aee5881-6d54-446d-cbc9-0d4de13fea1c"
      },
      "source": [
        "test_y =  train_piv.values[:,:1]\n",
        "plt.plot(test_y, 'r')\n",
        "plt.plot(y_pred, 'b')"
      ],
      "execution_count": 57,
      "outputs": [
        {
          "output_type": "execute_result",
          "data": {
            "text/plain": [
              "[<matplotlib.lines.Line2D at 0x7fe3862ed1d0>]"
            ]
          },
          "metadata": {
            "tags": []
          },
          "execution_count": 57
        },
        {
          "output_type": "display_data",
          "data": {
            "image/png": "[encoded data removed]",
            "text/plain": [
              "<Figure size 432x288 with 1 Axes>"
            ]
          },
          "metadata": {
            "tags": [],
            "needs_background": "light"
          }
        }
      ]
    },
    {
      "cell_type": "code",
      "metadata": {
        "id": "IfQw6NI01NkN",
        "colab_type": "code",
        "colab": {
          "base_uri": "https://localhost:8080/",
          "height": 34
        },
        "outputId": "328d13cf-6ae7-4695-910c-0d3436794172"
      },
      "source": [
        "mean_squared_error(test_y,y_pred)"
      ],
      "execution_count": 58,
      "outputs": [
        {
          "output_type": "execute_result",
          "data": {
            "text/plain": [
              "9.962477092252884"
            ]
          },
          "metadata": {
            "tags": []
          },
          "execution_count": 58
        }
      ]
    }
  ]
}